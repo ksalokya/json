{
 "cells": [
  {
   "cell_type": "markdown",
   "id": "5b8928f9",
   "metadata": {},
   "source": [
    "# Import json"
   ]
  },
  {
   "cell_type": "code",
   "execution_count": 1,
   "id": "75a1e233",
   "metadata": {},
   "outputs": [],
   "source": [
    "import json"
   ]
  },
  {
   "cell_type": "markdown",
   "id": "2f4d915b",
   "metadata": {},
   "source": [
    "# Basics"
   ]
  },
  {
   "cell_type": "code",
   "execution_count": 2,
   "id": "50de0dd1",
   "metadata": {},
   "outputs": [
    {
     "data": {
      "text/plain": [
       "'{\"a\" : 1,\"b\": 2, \"c\" : 3}'"
      ]
     },
     "execution_count": 2,
     "metadata": {},
     "output_type": "execute_result"
    }
   ],
   "source": [
    "# the JSON object must be str\n",
    "json_data = '{\"a\" : 1,\"b\": 2, \"c\" : 3}'\n",
    "json_data"
   ]
  },
  {
   "cell_type": "code",
   "execution_count": 3,
   "id": "65771ef0",
   "metadata": {},
   "outputs": [
    {
     "data": {
      "text/plain": [
       "{'a': 1, 'b': 2, 'c': 3}"
      ]
     },
     "execution_count": 3,
     "metadata": {},
     "output_type": "execute_result"
    }
   ],
   "source": [
    "x = json.loads(json_data)\n",
    "x"
   ]
  },
  {
   "cell_type": "code",
   "execution_count": 4,
   "id": "f8764149",
   "metadata": {},
   "outputs": [
    {
     "data": {
      "text/plain": [
       "2"
      ]
     },
     "execution_count": 4,
     "metadata": {},
     "output_type": "execute_result"
    }
   ],
   "source": [
    "x['b']"
   ]
  },
  {
   "cell_type": "code",
   "execution_count": 5,
   "id": "db5800b8",
   "metadata": {},
   "outputs": [],
   "source": [
    "# json data\n",
    "\n",
    "json_data1 = '''\n",
    "{\n",
    "  \"params\":\n",
    "  {\n",
    "    \"local_server\":\"True\",\n",
    "    \"local_uri\": \"mysql://root:@localhost/xyz\",\n",
    "    \"prod_uri\":\"mysql://root:@localhost/xyz\",\n",
    "    \"blog_name\": \"XYZ\",\n",
    "    \"gmail-user\":\"your-email@gmail.com\",\n",
    "    \"gmail-password\":\"gmailpassword\",\n",
    "    \"login_image\":\"login.svg\"\n",
    "  }\n",
    "}'''"
   ]
  },
  {
   "cell_type": "code",
   "execution_count": 6,
   "id": "7330f4c4",
   "metadata": {},
   "outputs": [
    {
     "data": {
      "text/plain": [
       "{'params': {'local_server': 'True',\n",
       "  'local_uri': 'mysql://root:@localhost/xyz',\n",
       "  'prod_uri': 'mysql://root:@localhost/xyz',\n",
       "  'blog_name': 'XYZ',\n",
       "  'gmail-user': 'your-email@gmail.com',\n",
       "  'gmail-password': 'gmailpassword',\n",
       "  'login_image': 'login.svg'}}"
      ]
     },
     "execution_count": 6,
     "metadata": {},
     "output_type": "execute_result"
    }
   ],
   "source": [
    "# json.loads() method can be used to parse a valid JSON string and convert it into a Python Dictionary.\n",
    "y = json.loads(json_data1)\n",
    "y"
   ]
  },
  {
   "cell_type": "code",
   "execution_count": 7,
   "id": "0f89b948",
   "metadata": {},
   "outputs": [
    {
     "data": {
      "text/plain": [
       "{'local_server': 'True',\n",
       " 'local_uri': 'mysql://root:@localhost/xyz',\n",
       " 'prod_uri': 'mysql://root:@localhost/xyz',\n",
       " 'blog_name': 'XYZ',\n",
       " 'gmail-user': 'your-email@gmail.com',\n",
       " 'gmail-password': 'gmailpassword',\n",
       " 'login_image': 'login.svg'}"
      ]
     },
     "execution_count": 7,
     "metadata": {},
     "output_type": "execute_result"
    }
   ],
   "source": [
    "y['params']"
   ]
  },
  {
   "cell_type": "code",
   "execution_count": 8,
   "id": "c43f4572",
   "metadata": {},
   "outputs": [
    {
     "data": {
      "text/plain": [
       "'mysql://root:@localhost/xyz'"
      ]
     },
     "execution_count": 8,
     "metadata": {},
     "output_type": "execute_result"
    }
   ],
   "source": [
    "y['params']['local_uri']"
   ]
  },
  {
   "cell_type": "markdown",
   "id": "7cb14cbb",
   "metadata": {},
   "source": [
    "# File"
   ]
  },
  {
   "cell_type": "code",
   "execution_count": 9,
   "id": "bfb4baad",
   "metadata": {},
   "outputs": [],
   "source": [
    "# writing\n",
    "with open('data.json','w') as f:\n",
    "    json.dump(y,f)"
   ]
  },
  {
   "cell_type": "markdown",
   "id": "685444b7",
   "metadata": {},
   "source": [
    "# Repeated Names Within an Object"
   ]
  },
  {
   "cell_type": "code",
   "execution_count": 10,
   "id": "19ecf886",
   "metadata": {},
   "outputs": [
    {
     "data": {
      "text/plain": [
       "{'x': 3}"
      ]
     },
     "execution_count": 10,
     "metadata": {},
     "output_type": "execute_result"
    }
   ],
   "source": [
    "weird_json = '{\"x\": 1, \"x\": 2, \"x\": 3}'\n",
    "json.loads(weird_json)"
   ]
  }
 ],
 "metadata": {
  "kernelspec": {
   "display_name": "Python 3 (ipykernel)",
   "language": "python",
   "name": "python3"
  },
  "language_info": {
   "codemirror_mode": {
    "name": "ipython",
    "version": 3
   },
   "file_extension": ".py",
   "mimetype": "text/x-python",
   "name": "python",
   "nbconvert_exporter": "python",
   "pygments_lexer": "ipython3",
   "version": "3.9.7"
  }
 },
 "nbformat": 4,
 "nbformat_minor": 5
}
